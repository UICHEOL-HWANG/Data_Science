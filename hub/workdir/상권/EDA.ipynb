{
 "cells": [
  {
   "cell_type": "code",
   "execution_count": 2,
   "id": "5e7af507-dad2-430f-bed3-4dd4aca8129c",
   "metadata": {},
   "outputs": [
    {
     "name": "stdout",
     "output_type": "stream",
     "text": [
      "Requirement already satisfied: pandas in /opt/conda/lib/python3.11/site-packages (2.2.3)\n",
      "Requirement already satisfied: matplotlib in /opt/conda/lib/python3.11/site-packages (3.9.2)\n",
      "Requirement already satisfied: koreanize_matplotlib in /opt/conda/lib/python3.11/site-packages (0.1.1)\n",
      "Requirement already satisfied: scipy in /opt/conda/lib/python3.11/site-packages (1.14.1)\n",
      "Requirement already satisfied: psycopg2-binary in /opt/conda/lib/python3.11/site-packages (2.9.10)\n",
      "Requirement already satisfied: numpy>=1.23.2 in /opt/conda/lib/python3.11/site-packages (from pandas) (2.1.3)\n",
      "Requirement already satisfied: python-dateutil>=2.8.2 in /opt/conda/lib/python3.11/site-packages (from pandas) (2.8.2)\n",
      "Requirement already satisfied: pytz>=2020.1 in /opt/conda/lib/python3.11/site-packages (from pandas) (2023.3.post1)\n",
      "Requirement already satisfied: tzdata>=2022.7 in /opt/conda/lib/python3.11/site-packages (from pandas) (2024.2)\n",
      "Requirement already satisfied: contourpy>=1.0.1 in /opt/conda/lib/python3.11/site-packages (from matplotlib) (1.3.0)\n",
      "Requirement already satisfied: cycler>=0.10 in /opt/conda/lib/python3.11/site-packages (from matplotlib) (0.12.1)\n",
      "Requirement already satisfied: fonttools>=4.22.0 in /opt/conda/lib/python3.11/site-packages (from matplotlib) (4.54.1)\n",
      "Requirement already satisfied: kiwisolver>=1.3.1 in /opt/conda/lib/python3.11/site-packages (from matplotlib) (1.4.7)\n",
      "Requirement already satisfied: packaging>=20.0 in /opt/conda/lib/python3.11/site-packages (from matplotlib) (23.2)\n",
      "Requirement already satisfied: pillow>=8 in /opt/conda/lib/python3.11/site-packages (from matplotlib) (11.0.0)\n",
      "Requirement already satisfied: pyparsing>=2.3.1 in /opt/conda/lib/python3.11/site-packages (from matplotlib) (3.2.0)\n",
      "Requirement already satisfied: six>=1.5 in /opt/conda/lib/python3.11/site-packages (from python-dateutil>=2.8.2->pandas) (1.16.0)\n"
     ]
    }
   ],
   "source": [
    "! pip install pandas matplotlib koreanize_matplotlib scipy psycopg2-binary"
   ]
  },
  {
   "cell_type": "code",
   "execution_count": 3,
   "id": "99307773-c6d9-4e9e-a167-5e2d0aca343d",
   "metadata": {},
   "outputs": [],
   "source": [
    "import pandas as pd \n",
    "import matplotlib.pyplot as plt \n",
    "import koreanize_matplotlib\n",
    "import scipy\n",
    "import psycopg2"
   ]
  },
  {
   "cell_type": "code",
   "execution_count": 4,
   "id": "0900ae97-0af6-4a42-be5d-a25f7908896d",
   "metadata": {},
   "outputs": [
    {
     "name": "stdin",
     "output_type": "stream",
     "text": [
      "호스트 입력 : ········\n",
      "db 입력 : ········\n",
      "user 입력 : ········\n",
      "password 입력 : ········\n",
      "port 입력 : ········\n"
     ]
    }
   ],
   "source": [
    "from getpass import getpass\n",
    "hosts = getpass(\"호스트 입력 :\")\n",
    "dbname = getpass(\"db 입력 :\")\n",
    "user = getpass(\"user 입력 :\")\n",
    "password = getpass(\"password 입력 :\")\n",
    "port = getpass(\"port 입력 :\")\n",
    "connection = psycopg2.connect(f\"host={hosts} dbname={dbname} user={user} password={password} port={port}\")"
   ]
  },
  {
   "cell_type": "code",
   "execution_count": 5,
   "id": "fbb93f61-6bf4-4117-8e08-e189a2909944",
   "metadata": {},
   "outputs": [],
   "source": [
    "cursor = connection.cursor()\n",
    "\n",
    "formula = \"\"\"\n",
    "SELECT * FROM commercial_district;\n",
    "\"\"\"\n",
    "\n",
    "cursor.execute(formula)\n",
    "\n",
    "columns = [desc[0] for desc in cursor.description]\n",
    "data = cursor.fetchall() \n",
    "\n",
    "df = pd.DataFrame(data, columns=columns)"
   ]
  },
  {
   "cell_type": "code",
   "execution_count": 8,
   "id": "be96442a-0b32-4984-a9be-18d976c16d14",
   "metadata": {},
   "outputs": [
    {
     "name": "stdout",
     "output_type": "stream",
     "text": [
      "<class 'pandas.core.frame.DataFrame'>\n",
      "RangeIndex: 10000 entries, 0 to 9999\n",
      "Data columns (total 39 columns):\n",
      " #   Column      Non-Null Count  Dtype  \n",
      "---  ------      --------------  -----  \n",
      " 0   bizesId     10000 non-null  object \n",
      " 1   bizesNm     10000 non-null  object \n",
      " 2   brchNm      10000 non-null  object \n",
      " 3   indsLclsCd  10000 non-null  object \n",
      " 4   indsLclsNm  10000 non-null  object \n",
      " 5   indsMclsCd  10000 non-null  object \n",
      " 6   indsMclsNm  10000 non-null  object \n",
      " 7   indsSclsCd  10000 non-null  object \n",
      " 8   indsSclsNm  10000 non-null  object \n",
      " 9   ksicCd      10000 non-null  object \n",
      " 10  ksicNm      10000 non-null  object \n",
      " 11  ctprvnCd    10000 non-null  object \n",
      " 12  ctprvnNm    10000 non-null  object \n",
      " 13  signguCd    10000 non-null  object \n",
      " 14  signguNm    10000 non-null  object \n",
      " 15  adongCd     10000 non-null  object \n",
      " 16  adongNm     10000 non-null  object \n",
      " 17  ldongCd     10000 non-null  object \n",
      " 18  ldongNm     10000 non-null  object \n",
      " 19  lnoCd       10000 non-null  object \n",
      " 20  plotSctCd   10000 non-null  object \n",
      " 21  plotSctNm   10000 non-null  object \n",
      " 22  lnoMnno     10000 non-null  object \n",
      " 23  lnoSlno     10000 non-null  object \n",
      " 24  lnoAdr      10000 non-null  object \n",
      " 25  rdnmCd      10000 non-null  object \n",
      " 26  rdnm        10000 non-null  object \n",
      " 27  bldMnno     10000 non-null  object \n",
      " 28  bldSlno     10000 non-null  object \n",
      " 29  bldMngNo    10000 non-null  object \n",
      " 30  bldNm       10000 non-null  object \n",
      " 31  rdnmAdr     10000 non-null  object \n",
      " 32  oldZipcd    10000 non-null  object \n",
      " 33  newZipcd    10000 non-null  object \n",
      " 34  dongNo      10000 non-null  object \n",
      " 35  flrNo       10000 non-null  object \n",
      " 36  hoNo        10000 non-null  object \n",
      " 37  lon         10000 non-null  float64\n",
      " 38  lat         10000 non-null  float64\n",
      "dtypes: float64(2), object(37)\n",
      "memory usage: 3.0+ MB\n"
     ]
    }
   ],
   "source": [
    "df.info()"
   ]
  },
  {
   "cell_type": "code",
   "execution_count": 11,
   "id": "57ba6919-6979-41b3-bc22-eca58d162741",
   "metadata": {},
   "outputs": [
    {
     "data": {
      "text/plain": [
       "indsMclsNm\n",
       "한식         4106\n",
       "기타 간이      1831\n",
       "비알코올       1487\n",
       "주점         1385\n",
       "중식          341\n",
       "서양식         319\n",
       "일식          314\n",
       "구내식당·뷔페     117\n",
       "동남아시아       100\n",
       "Name: count, dtype: int64"
      ]
     },
     "execution_count": 11,
     "metadata": {},
     "output_type": "execute_result"
    }
   ],
   "source": [
    "df.indsMclsNm.value_counts()"
   ]
  },
  {
   "cell_type": "code",
   "execution_count": 14,
   "id": "165b61cd-f040-412f-a658-5573f0df4112",
   "metadata": {},
   "outputs": [
    {
     "data": {
      "text/plain": [
       "indsSclsNm\n",
       "패밀리레스토랑             2\n",
       "기타 일식 음식점           3\n",
       "기타 동남아식 전문          4\n",
       "무도 유흥 주점            8\n",
       "복 요리 전문             9\n",
       "기타 서양식 음식점         10\n",
       "전/부침개              14\n",
       "기타 한식 음식점          22\n",
       "뷔페                 23\n",
       "마라탕/훠궈             23\n",
       "파스타/스테이크           26\n",
       "아이스크림/빙수           26\n",
       "일식 카레/돈가스/덮밥       26\n",
       "일식 면 요리            29\n",
       "토스트/샌드위치/샐러드       38\n",
       "냉면/밀면              47\n",
       "버거                 52\n",
       "소고기 구이/찜           64\n",
       "그 외 기타 간이 음식점      89\n",
       "곱창 전골/구이           90\n",
       "구내식당               94\n",
       "베트남식 전문            96\n",
       "닭/오리고기 구이/찜        97\n",
       "떡/한과              108\n",
       "족발/보쌈             112\n",
       "해산물 구이/찜          164\n",
       "생맥주 전문            176\n",
       "피자                181\n",
       "횟집                230\n",
       "일식 회/초밥           256\n",
       "경양식               281\n",
       "국수/칼국수            308\n",
       "중국집               318\n",
       "빵/도넛              323\n",
       "일반 유흥 주점          324\n",
       "국/탕/찌개류           372\n",
       "치킨                433\n",
       "김밥/만두/분식          581\n",
       "돼지고기 구이/찜         714\n",
       "요리 주점             877\n",
       "카페               1487\n",
       "백반/한정식           1863\n",
       "Name: count, dtype: int64"
      ]
     },
     "execution_count": 14,
     "metadata": {},
     "output_type": "execute_result"
    }
   ],
   "source": [
    "df.indsSclsNm.value_counts().sort_values()"
   ]
  }
 ],
 "metadata": {
  "kernelspec": {
   "display_name": "Python 3 (ipykernel)",
   "language": "python",
   "name": "python3"
  },
  "language_info": {
   "codemirror_mode": {
    "name": "ipython",
    "version": 3
   },
   "file_extension": ".py",
   "mimetype": "text/x-python",
   "name": "python",
   "nbconvert_exporter": "python",
   "pygments_lexer": "ipython3",
   "version": "3.11.6"
  }
 },
 "nbformat": 4,
 "nbformat_minor": 5
}
