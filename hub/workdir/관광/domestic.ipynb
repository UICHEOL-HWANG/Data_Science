{
 "cells": [
  {
   "cell_type": "code",
   "execution_count": 2,
   "id": "e1ef8b9f-dcdb-4290-bf7e-02beab147ddc",
   "metadata": {},
   "outputs": [
    {
     "name": "stdout",
     "output_type": "stream",
     "text": [
      "Collecting psycopg2-binary\n",
      "  Downloading psycopg2_binary-2.9.10-cp311-cp311-manylinux_2_17_aarch64.manylinux2014_aarch64.whl.metadata (4.9 kB)\n",
      "Downloading psycopg2_binary-2.9.10-cp311-cp311-manylinux_2_17_aarch64.manylinux2014_aarch64.whl (2.9 MB)\n",
      "\u001b[2K   \u001b[90m━━━━━━━━━━━━━━━━━━━━━━━━━━━━━━━━━━━━━━━━\u001b[0m \u001b[32m2.9/2.9 MB\u001b[0m \u001b[31m11.9 MB/s\u001b[0m eta \u001b[36m0:00:00\u001b[0ma \u001b[36m0:00:01\u001b[0m\n",
      "\u001b[?25hInstalling collected packages: psycopg2-binary\n",
      "Successfully installed psycopg2-binary-2.9.10\n"
     ]
    }
   ],
   "source": [
    "! pip install psycopg2-binary"
   ]
  },
  {
   "cell_type": "code",
   "execution_count": 61,
   "id": "c77c0e3e-7a67-405c-8515-8673d2fda07c",
   "metadata": {},
   "outputs": [],
   "source": [
    "import psycopg2"
   ]
  },
  {
   "cell_type": "code",
   "execution_count": 13,
   "id": "75b553a6-51ce-4d0c-9897-dfdca3a3adfc",
   "metadata": {
    "scrolled": true
   },
   "outputs": [
    {
     "name": "stdout",
     "output_type": "stream",
     "text": [
      "Help on function connect in module psycopg2:\n",
      "\n",
      "connect(dsn=None, connection_factory=None, cursor_factory=None, **kwargs)\n",
      "    Create a new database connection.\n",
      "    \n",
      "    The connection parameters can be specified as a string:\n",
      "    \n",
      "        conn = psycopg2.connect(\"dbname=test user=postgres password=secret\")\n",
      "    \n",
      "    or using a set of keyword arguments:\n",
      "    \n",
      "        conn = psycopg2.connect(database=\"test\", user=\"postgres\", password=\"secret\")\n",
      "    \n",
      "    Or as a mix of both. The basic connection parameters are:\n",
      "    \n",
      "    - *dbname*: the database name\n",
      "    - *database*: the database name (only as keyword argument)\n",
      "    - *user*: user name used to authenticate\n",
      "    - *password*: password used to authenticate\n",
      "    - *host*: database host address (defaults to UNIX socket if not provided)\n",
      "    - *port*: connection port number (defaults to 5432 if not provided)\n",
      "    \n",
      "    Using the *connection_factory* parameter a different class or connections\n",
      "    factory can be specified. It should be a callable object taking a dsn\n",
      "    argument.\n",
      "    \n",
      "    Using the *cursor_factory* parameter, a new default cursor factory will be\n",
      "    used by cursor().\n",
      "    \n",
      "    Using *async*=True an asynchronous connection will be created. *async_* is\n",
      "    a valid alias (for Python versions where ``async`` is a keyword).\n",
      "    \n",
      "    Any other keyword parameter will be passed to the underlying client\n",
      "    library: the list of supported parameters depends on the library version.\n",
      "\n"
     ]
    }
   ],
   "source": [
    "help(psycopg2.connect)"
   ]
  },
  {
   "cell_type": "code",
   "execution_count": 41,
   "id": "722662e6-601d-44c7-b142-58efee6bea0e",
   "metadata": {},
   "outputs": [
    {
     "name": "stdout",
     "output_type": "stream",
     "text": [
      "Collecting pandas\n",
      "  Downloading pandas-2.2.3-cp311-cp311-manylinux2014_aarch64.manylinux_2_17_aarch64.whl.metadata (89 kB)\n",
      "\u001b[2K     \u001b[90m━━━━━━━━━━━━━━━━━━━━━━━━━━━━━━━━━━━━━━━━\u001b[0m \u001b[32m89.9/89.9 kB\u001b[0m \u001b[31m6.3 MB/s\u001b[0m eta \u001b[36m0:00:00\u001b[0m\n",
      "\u001b[?25hCollecting numpy>=1.23.2 (from pandas)\n",
      "  Downloading numpy-2.1.3-cp311-cp311-manylinux_2_17_aarch64.manylinux2014_aarch64.whl.metadata (63 kB)\n",
      "\u001b[2K     \u001b[90m━━━━━━━━━━━━━━━━━━━━━━━━━━━━━━━━━━━━━━━━\u001b[0m \u001b[32m63.4/63.4 kB\u001b[0m \u001b[31m25.9 MB/s\u001b[0m eta \u001b[36m0:00:00\u001b[0m\n",
      "\u001b[?25hRequirement already satisfied: python-dateutil>=2.8.2 in /opt/conda/lib/python3.11/site-packages (from pandas) (2.8.2)\n",
      "Requirement already satisfied: pytz>=2020.1 in /opt/conda/lib/python3.11/site-packages (from pandas) (2023.3.post1)\n",
      "Collecting tzdata>=2022.7 (from pandas)\n",
      "  Downloading tzdata-2024.2-py2.py3-none-any.whl.metadata (1.4 kB)\n",
      "Requirement already satisfied: six>=1.5 in /opt/conda/lib/python3.11/site-packages (from python-dateutil>=2.8.2->pandas) (1.16.0)\n",
      "Downloading pandas-2.2.3-cp311-cp311-manylinux2014_aarch64.manylinux_2_17_aarch64.whl (15.6 MB)\n",
      "\u001b[2K   \u001b[90m━━━━━━━━━━━━━━━━━━━━━━━━━━━━━━━━━━━━━━━━\u001b[0m \u001b[32m15.6/15.6 MB\u001b[0m \u001b[31m19.2 MB/s\u001b[0m eta \u001b[36m0:00:00\u001b[0m00:01\u001b[0m00:01\u001b[0m\n",
      "\u001b[?25hDownloading numpy-2.1.3-cp311-cp311-manylinux_2_17_aarch64.manylinux2014_aarch64.whl (13.9 MB)\n",
      "\u001b[2K   \u001b[90m━━━━━━━━━━━━━━━━━━━━━━━━━━━━━━━━━━━━━━━━\u001b[0m \u001b[32m13.9/13.9 MB\u001b[0m \u001b[31m19.9 MB/s\u001b[0m eta \u001b[36m0:00:00\u001b[0m00:01\u001b[0m00:01\u001b[0m\n",
      "\u001b[?25hDownloading tzdata-2024.2-py2.py3-none-any.whl (346 kB)\n",
      "\u001b[2K   \u001b[90m━━━━━━━━━━━━━━━━━━━━━━━━━━━━━━━━━━━━━━━━\u001b[0m \u001b[32m346.6/346.6 kB\u001b[0m \u001b[31m6.8 MB/s\u001b[0m eta \u001b[36m0:00:00\u001b[0ma \u001b[36m0:00:01\u001b[0m\n",
      "\u001b[?25hInstalling collected packages: tzdata, numpy, pandas\n",
      "Successfully installed numpy-2.1.3 pandas-2.2.3 tzdata-2024.2\n"
     ]
    }
   ],
   "source": [
    "! pip install pandas "
   ]
  },
  {
   "cell_type": "code",
   "execution_count": 62,
   "id": "f61f6847-2c62-4092-93bb-1af9ffd1e6a9",
   "metadata": {},
   "outputs": [
    {
     "name": "stdin",
     "output_type": "stream",
     "text": [
      "호스트 입력 : ········\n",
      "db 입력 : ········\n",
      "user 입력 : ········\n",
      "password 입력 : ········\n",
      "port 입력 : ········\n"
     ]
    }
   ],
   "source": [
    "from getpass import getpass\n",
    "hosts = getpass(\"호스트 입력 :\")\n",
    "dbname = getpass(\"db 입력 :\")\n",
    "user = getpass(\"user 입력 :\")\n",
    "password = getpass(\"password 입력 :\")\n",
    "port = getpass(\"port 입력 :\")\n",
    "connection = psycopg2.connect(f\"host={hosts} dbname={dbname} user={user} password={password} port={port}\")"
   ]
  },
  {
   "cell_type": "code",
   "execution_count": 63,
   "id": "44a09807-88a4-469a-a6bf-89cda4cb9cc3",
   "metadata": {},
   "outputs": [],
   "source": [
    "import pandas as pd \n",
    "\n",
    "cursor = connection.cursor()\n",
    "\n",
    " \n",
    "cursor.execute(\"select * from tourist_domestic;\")\n",
    "columns = [desc[0] for desc in cursor.description]\n",
    "data = cursor.fetchall()\n",
    "df = pd.DataFrame(data, columns=columns)"
   ]
  },
  {
   "cell_type": "code",
   "execution_count": 64,
   "id": "62ca9c4f-b7ed-4568-a27f-7bc8f1851dc4",
   "metadata": {
    "scrolled": true
   },
   "outputs": [
    {
     "data": {
      "text/html": [
       "<div>\n",
       "<style scoped>\n",
       "    .dataframe tbody tr th:only-of-type {\n",
       "        vertical-align: middle;\n",
       "    }\n",
       "\n",
       "    .dataframe tbody tr th {\n",
       "        vertical-align: top;\n",
       "    }\n",
       "\n",
       "    .dataframe thead th {\n",
       "        text-align: right;\n",
       "    }\n",
       "</style>\n",
       "<table border=\"1\" class=\"dataframe\">\n",
       "  <thead>\n",
       "    <tr style=\"text-align: right;\">\n",
       "      <th></th>\n",
       "      <th>age</th>\n",
       "      <th>ageCd</th>\n",
       "      <th>num</th>\n",
       "      <th>port</th>\n",
       "      <th>portCd</th>\n",
       "      <th>rnum</th>\n",
       "      <th>sex</th>\n",
       "      <th>sexCd</th>\n",
       "      <th>ym</th>\n",
       "    </tr>\n",
       "  </thead>\n",
       "  <tbody>\n",
       "    <tr>\n",
       "      <th>0</th>\n",
       "      <td>0 - 10</td>\n",
       "      <td>10</td>\n",
       "      <td>36757</td>\n",
       "      <td>인천공항</td>\n",
       "      <td>IA</td>\n",
       "      <td>1</td>\n",
       "      <td>남성</td>\n",
       "      <td>M</td>\n",
       "      <td>202301</td>\n",
       "    </tr>\n",
       "    <tr>\n",
       "      <th>1</th>\n",
       "      <td>11 - 20</td>\n",
       "      <td>20</td>\n",
       "      <td>74567</td>\n",
       "      <td>인천공항</td>\n",
       "      <td>IA</td>\n",
       "      <td>1</td>\n",
       "      <td>남성</td>\n",
       "      <td>M</td>\n",
       "      <td>202301</td>\n",
       "    </tr>\n",
       "    <tr>\n",
       "      <th>2</th>\n",
       "      <td>21 - 30</td>\n",
       "      <td>30</td>\n",
       "      <td>119694</td>\n",
       "      <td>인천공항</td>\n",
       "      <td>IA</td>\n",
       "      <td>1</td>\n",
       "      <td>남성</td>\n",
       "      <td>M</td>\n",
       "      <td>202301</td>\n",
       "    </tr>\n",
       "    <tr>\n",
       "      <th>3</th>\n",
       "      <td>31 - 40</td>\n",
       "      <td>40</td>\n",
       "      <td>110655</td>\n",
       "      <td>인천공항</td>\n",
       "      <td>IA</td>\n",
       "      <td>1</td>\n",
       "      <td>남성</td>\n",
       "      <td>M</td>\n",
       "      <td>202301</td>\n",
       "    </tr>\n",
       "    <tr>\n",
       "      <th>4</th>\n",
       "      <td>41 - 50</td>\n",
       "      <td>50</td>\n",
       "      <td>125074</td>\n",
       "      <td>인천공항</td>\n",
       "      <td>IA</td>\n",
       "      <td>1</td>\n",
       "      <td>남성</td>\n",
       "      <td>M</td>\n",
       "      <td>202301</td>\n",
       "    </tr>\n",
       "    <tr>\n",
       "      <th>...</th>\n",
       "      <td>...</td>\n",
       "      <td>...</td>\n",
       "      <td>...</td>\n",
       "      <td>...</td>\n",
       "      <td>...</td>\n",
       "      <td>...</td>\n",
       "      <td>...</td>\n",
       "      <td>...</td>\n",
       "      <td>...</td>\n",
       "    </tr>\n",
       "    <tr>\n",
       "      <th>187</th>\n",
       "      <td>31 - 40</td>\n",
       "      <td>40</td>\n",
       "      <td>166737</td>\n",
       "      <td>인천공항</td>\n",
       "      <td>IA</td>\n",
       "      <td>1</td>\n",
       "      <td>여성</td>\n",
       "      <td>F</td>\n",
       "      <td>202312</td>\n",
       "    </tr>\n",
       "    <tr>\n",
       "      <th>188</th>\n",
       "      <td>41 - 50</td>\n",
       "      <td>50</td>\n",
       "      <td>136118</td>\n",
       "      <td>인천공항</td>\n",
       "      <td>IA</td>\n",
       "      <td>1</td>\n",
       "      <td>여성</td>\n",
       "      <td>F</td>\n",
       "      <td>202312</td>\n",
       "    </tr>\n",
       "    <tr>\n",
       "      <th>189</th>\n",
       "      <td>51 - 60</td>\n",
       "      <td>60</td>\n",
       "      <td>134455</td>\n",
       "      <td>인천공항</td>\n",
       "      <td>IA</td>\n",
       "      <td>1</td>\n",
       "      <td>여성</td>\n",
       "      <td>F</td>\n",
       "      <td>202312</td>\n",
       "    </tr>\n",
       "    <tr>\n",
       "      <th>190</th>\n",
       "      <td>61 - 70</td>\n",
       "      <td>70</td>\n",
       "      <td>85237</td>\n",
       "      <td>인천공항</td>\n",
       "      <td>IA</td>\n",
       "      <td>1</td>\n",
       "      <td>여성</td>\n",
       "      <td>F</td>\n",
       "      <td>202312</td>\n",
       "    </tr>\n",
       "    <tr>\n",
       "      <th>191</th>\n",
       "      <td>71 -</td>\n",
       "      <td>80</td>\n",
       "      <td>21123</td>\n",
       "      <td>인천공항</td>\n",
       "      <td>IA</td>\n",
       "      <td>1</td>\n",
       "      <td>여성</td>\n",
       "      <td>F</td>\n",
       "      <td>202312</td>\n",
       "    </tr>\n",
       "  </tbody>\n",
       "</table>\n",
       "<p>192 rows × 9 columns</p>\n",
       "</div>"
      ],
      "text/plain": [
       "         age ageCd     num  port portCd rnum sex sexCd      ym\n",
       "0     0 - 10    10   36757  인천공항     IA    1  남성     M  202301\n",
       "1    11 - 20    20   74567  인천공항     IA    1  남성     M  202301\n",
       "2    21 - 30    30  119694  인천공항     IA    1  남성     M  202301\n",
       "3    31 - 40    40  110655  인천공항     IA    1  남성     M  202301\n",
       "4    41 - 50    50  125074  인천공항     IA    1  남성     M  202301\n",
       "..       ...   ...     ...   ...    ...  ...  ..   ...     ...\n",
       "187  31 - 40    40  166737  인천공항     IA    1  여성     F  202312\n",
       "188  41 - 50    50  136118  인천공항     IA    1  여성     F  202312\n",
       "189  51 - 60    60  134455  인천공항     IA    1  여성     F  202312\n",
       "190  61 - 70    70   85237  인천공항     IA    1  여성     F  202312\n",
       "191     71 -    80   21123  인천공항     IA    1  여성     F  202312\n",
       "\n",
       "[192 rows x 9 columns]"
      ]
     },
     "execution_count": 64,
     "metadata": {},
     "output_type": "execute_result"
    }
   ],
   "source": [
    "df"
   ]
  },
  {
   "cell_type": "markdown",
   "id": "6bd5580a-36e8-44eb-bd76-a9f8ce46af21",
   "metadata": {},
   "source": [
    "## EDA "
   ]
  },
  {
   "cell_type": "code",
   "execution_count": 49,
   "id": "4884ca23-4931-4f86-a0b8-23b4cd6aecf8",
   "metadata": {},
   "outputs": [
    {
     "name": "stdout",
     "output_type": "stream",
     "text": [
      "<class 'pandas.core.frame.DataFrame'>\n",
      "RangeIndex: 18528 entries, 0 to 18527\n",
      "Data columns (total 9 columns):\n",
      " #   Column  Non-Null Count  Dtype \n",
      "---  ------  --------------  ----- \n",
      " 0   age     18528 non-null  object\n",
      " 1   ageCd   18528 non-null  object\n",
      " 2   num     18528 non-null  object\n",
      " 3   port    18528 non-null  object\n",
      " 4   portCd  18528 non-null  object\n",
      " 5   rnum    18528 non-null  object\n",
      " 6   sex     18528 non-null  object\n",
      " 7   sexCd   18528 non-null  object\n",
      " 8   ym      18528 non-null  object\n",
      "dtypes: object(9)\n",
      "memory usage: 1.3+ MB\n"
     ]
    }
   ],
   "source": [
    "df.info()"
   ]
  },
  {
   "cell_type": "code",
   "execution_count": 56,
   "id": "28b05a97-c123-4c37-b97a-0b4236df74e6",
   "metadata": {},
   "outputs": [
    {
     "data": {
      "text/html": [
       "<div>\n",
       "<style scoped>\n",
       "    .dataframe tbody tr th:only-of-type {\n",
       "        vertical-align: middle;\n",
       "    }\n",
       "\n",
       "    .dataframe tbody tr th {\n",
       "        vertical-align: top;\n",
       "    }\n",
       "\n",
       "    .dataframe thead th {\n",
       "        text-align: right;\n",
       "    }\n",
       "</style>\n",
       "<table border=\"1\" class=\"dataframe\">\n",
       "  <thead>\n",
       "    <tr style=\"text-align: right;\">\n",
       "      <th></th>\n",
       "      <th>age</th>\n",
       "      <th>ageCd</th>\n",
       "      <th>num</th>\n",
       "      <th>port</th>\n",
       "      <th>portCd</th>\n",
       "      <th>rnum</th>\n",
       "      <th>sex</th>\n",
       "      <th>sexCd</th>\n",
       "      <th>ym</th>\n",
       "    </tr>\n",
       "  </thead>\n",
       "  <tbody>\n",
       "    <tr>\n",
       "      <th>0</th>\n",
       "      <td>0 - 10</td>\n",
       "      <td>10</td>\n",
       "      <td>36757</td>\n",
       "      <td>인천공항</td>\n",
       "      <td>IA</td>\n",
       "      <td>1</td>\n",
       "      <td>남성</td>\n",
       "      <td>M</td>\n",
       "      <td>202301</td>\n",
       "    </tr>\n",
       "    <tr>\n",
       "      <th>1</th>\n",
       "      <td>11 - 20</td>\n",
       "      <td>20</td>\n",
       "      <td>74567</td>\n",
       "      <td>인천공항</td>\n",
       "      <td>IA</td>\n",
       "      <td>1</td>\n",
       "      <td>남성</td>\n",
       "      <td>M</td>\n",
       "      <td>202301</td>\n",
       "    </tr>\n",
       "    <tr>\n",
       "      <th>2</th>\n",
       "      <td>21 - 30</td>\n",
       "      <td>30</td>\n",
       "      <td>119694</td>\n",
       "      <td>인천공항</td>\n",
       "      <td>IA</td>\n",
       "      <td>1</td>\n",
       "      <td>남성</td>\n",
       "      <td>M</td>\n",
       "      <td>202301</td>\n",
       "    </tr>\n",
       "    <tr>\n",
       "      <th>3</th>\n",
       "      <td>31 - 40</td>\n",
       "      <td>40</td>\n",
       "      <td>110655</td>\n",
       "      <td>인천공항</td>\n",
       "      <td>IA</td>\n",
       "      <td>1</td>\n",
       "      <td>남성</td>\n",
       "      <td>M</td>\n",
       "      <td>202301</td>\n",
       "    </tr>\n",
       "    <tr>\n",
       "      <th>4</th>\n",
       "      <td>41 - 50</td>\n",
       "      <td>50</td>\n",
       "      <td>125074</td>\n",
       "      <td>인천공항</td>\n",
       "      <td>IA</td>\n",
       "      <td>1</td>\n",
       "      <td>남성</td>\n",
       "      <td>M</td>\n",
       "      <td>202301</td>\n",
       "    </tr>\n",
       "    <tr>\n",
       "      <th>...</th>\n",
       "      <td>...</td>\n",
       "      <td>...</td>\n",
       "      <td>...</td>\n",
       "      <td>...</td>\n",
       "      <td>...</td>\n",
       "      <td>...</td>\n",
       "      <td>...</td>\n",
       "      <td>...</td>\n",
       "      <td>...</td>\n",
       "    </tr>\n",
       "    <tr>\n",
       "      <th>187</th>\n",
       "      <td>31 - 40</td>\n",
       "      <td>40</td>\n",
       "      <td>166737</td>\n",
       "      <td>인천공항</td>\n",
       "      <td>IA</td>\n",
       "      <td>1</td>\n",
       "      <td>여성</td>\n",
       "      <td>F</td>\n",
       "      <td>202312</td>\n",
       "    </tr>\n",
       "    <tr>\n",
       "      <th>188</th>\n",
       "      <td>41 - 50</td>\n",
       "      <td>50</td>\n",
       "      <td>136118</td>\n",
       "      <td>인천공항</td>\n",
       "      <td>IA</td>\n",
       "      <td>1</td>\n",
       "      <td>여성</td>\n",
       "      <td>F</td>\n",
       "      <td>202312</td>\n",
       "    </tr>\n",
       "    <tr>\n",
       "      <th>189</th>\n",
       "      <td>51 - 60</td>\n",
       "      <td>60</td>\n",
       "      <td>134455</td>\n",
       "      <td>인천공항</td>\n",
       "      <td>IA</td>\n",
       "      <td>1</td>\n",
       "      <td>여성</td>\n",
       "      <td>F</td>\n",
       "      <td>202312</td>\n",
       "    </tr>\n",
       "    <tr>\n",
       "      <th>190</th>\n",
       "      <td>61 - 70</td>\n",
       "      <td>70</td>\n",
       "      <td>85237</td>\n",
       "      <td>인천공항</td>\n",
       "      <td>IA</td>\n",
       "      <td>1</td>\n",
       "      <td>여성</td>\n",
       "      <td>F</td>\n",
       "      <td>202312</td>\n",
       "    </tr>\n",
       "    <tr>\n",
       "      <th>191</th>\n",
       "      <td>71 -</td>\n",
       "      <td>80</td>\n",
       "      <td>21123</td>\n",
       "      <td>인천공항</td>\n",
       "      <td>IA</td>\n",
       "      <td>1</td>\n",
       "      <td>여성</td>\n",
       "      <td>F</td>\n",
       "      <td>202312</td>\n",
       "    </tr>\n",
       "  </tbody>\n",
       "</table>\n",
       "<p>192 rows × 9 columns</p>\n",
       "</div>"
      ],
      "text/plain": [
       "         age ageCd     num  port portCd rnum sex sexCd      ym\n",
       "0     0 - 10    10   36757  인천공항     IA    1  남성     M  202301\n",
       "1    11 - 20    20   74567  인천공항     IA    1  남성     M  202301\n",
       "2    21 - 30    30  119694  인천공항     IA    1  남성     M  202301\n",
       "3    31 - 40    40  110655  인천공항     IA    1  남성     M  202301\n",
       "4    41 - 50    50  125074  인천공항     IA    1  남성     M  202301\n",
       "..       ...   ...     ...   ...    ...  ...  ..   ...     ...\n",
       "187  31 - 40    40  166737  인천공항     IA    1  여성     F  202312\n",
       "188  41 - 50    50  136118  인천공항     IA    1  여성     F  202312\n",
       "189  51 - 60    60  134455  인천공항     IA    1  여성     F  202312\n",
       "190  61 - 70    70   85237  인천공항     IA    1  여성     F  202312\n",
       "191     71 -    80   21123  인천공항     IA    1  여성     F  202312\n",
       "\n",
       "[192 rows x 9 columns]"
      ]
     },
     "execution_count": 56,
     "metadata": {},
     "output_type": "execute_result"
    }
   ],
   "source": [
    "df.drop_duplicates().reset_index(drop=True)"
   ]
  },
  {
   "cell_type": "markdown",
   "id": "83354b41-8d25-412b-b930-0cb58688bfa8",
   "metadata": {},
   "source": [
    "## 데이터 수집에 문제\n",
    "\n",
    "- 데이터 수집에 문제가 있는 것 같아 다시 수집한다."
   ]
  },
  {
   "cell_type": "code",
   "execution_count": 65,
   "id": "2e7743a7-4153-4708-af76-e47752f73876",
   "metadata": {},
   "outputs": [
    {
     "data": {
      "text/html": [
       "<div>\n",
       "<style scoped>\n",
       "    .dataframe tbody tr th:only-of-type {\n",
       "        vertical-align: middle;\n",
       "    }\n",
       "\n",
       "    .dataframe tbody tr th {\n",
       "        vertical-align: top;\n",
       "    }\n",
       "\n",
       "    .dataframe thead th {\n",
       "        text-align: right;\n",
       "    }\n",
       "</style>\n",
       "<table border=\"1\" class=\"dataframe\">\n",
       "  <thead>\n",
       "    <tr style=\"text-align: right;\">\n",
       "      <th></th>\n",
       "      <th>age</th>\n",
       "      <th>ageCd</th>\n",
       "      <th>num</th>\n",
       "      <th>port</th>\n",
       "      <th>portCd</th>\n",
       "      <th>rnum</th>\n",
       "      <th>sex</th>\n",
       "      <th>sexCd</th>\n",
       "      <th>ym</th>\n",
       "    </tr>\n",
       "  </thead>\n",
       "  <tbody>\n",
       "    <tr>\n",
       "      <th>0</th>\n",
       "      <td>0 - 10</td>\n",
       "      <td>10</td>\n",
       "      <td>36757</td>\n",
       "      <td>인천공항</td>\n",
       "      <td>IA</td>\n",
       "      <td>1</td>\n",
       "      <td>남성</td>\n",
       "      <td>M</td>\n",
       "      <td>202301</td>\n",
       "    </tr>\n",
       "    <tr>\n",
       "      <th>1</th>\n",
       "      <td>11 - 20</td>\n",
       "      <td>20</td>\n",
       "      <td>74567</td>\n",
       "      <td>인천공항</td>\n",
       "      <td>IA</td>\n",
       "      <td>1</td>\n",
       "      <td>남성</td>\n",
       "      <td>M</td>\n",
       "      <td>202301</td>\n",
       "    </tr>\n",
       "    <tr>\n",
       "      <th>2</th>\n",
       "      <td>21 - 30</td>\n",
       "      <td>30</td>\n",
       "      <td>119694</td>\n",
       "      <td>인천공항</td>\n",
       "      <td>IA</td>\n",
       "      <td>1</td>\n",
       "      <td>남성</td>\n",
       "      <td>M</td>\n",
       "      <td>202301</td>\n",
       "    </tr>\n",
       "    <tr>\n",
       "      <th>3</th>\n",
       "      <td>31 - 40</td>\n",
       "      <td>40</td>\n",
       "      <td>110655</td>\n",
       "      <td>인천공항</td>\n",
       "      <td>IA</td>\n",
       "      <td>1</td>\n",
       "      <td>남성</td>\n",
       "      <td>M</td>\n",
       "      <td>202301</td>\n",
       "    </tr>\n",
       "    <tr>\n",
       "      <th>4</th>\n",
       "      <td>41 - 50</td>\n",
       "      <td>50</td>\n",
       "      <td>125074</td>\n",
       "      <td>인천공항</td>\n",
       "      <td>IA</td>\n",
       "      <td>1</td>\n",
       "      <td>남성</td>\n",
       "      <td>M</td>\n",
       "      <td>202301</td>\n",
       "    </tr>\n",
       "    <tr>\n",
       "      <th>...</th>\n",
       "      <td>...</td>\n",
       "      <td>...</td>\n",
       "      <td>...</td>\n",
       "      <td>...</td>\n",
       "      <td>...</td>\n",
       "      <td>...</td>\n",
       "      <td>...</td>\n",
       "      <td>...</td>\n",
       "      <td>...</td>\n",
       "    </tr>\n",
       "    <tr>\n",
       "      <th>187</th>\n",
       "      <td>31 - 40</td>\n",
       "      <td>40</td>\n",
       "      <td>166737</td>\n",
       "      <td>인천공항</td>\n",
       "      <td>IA</td>\n",
       "      <td>1</td>\n",
       "      <td>여성</td>\n",
       "      <td>F</td>\n",
       "      <td>202312</td>\n",
       "    </tr>\n",
       "    <tr>\n",
       "      <th>188</th>\n",
       "      <td>41 - 50</td>\n",
       "      <td>50</td>\n",
       "      <td>136118</td>\n",
       "      <td>인천공항</td>\n",
       "      <td>IA</td>\n",
       "      <td>1</td>\n",
       "      <td>여성</td>\n",
       "      <td>F</td>\n",
       "      <td>202312</td>\n",
       "    </tr>\n",
       "    <tr>\n",
       "      <th>189</th>\n",
       "      <td>51 - 60</td>\n",
       "      <td>60</td>\n",
       "      <td>134455</td>\n",
       "      <td>인천공항</td>\n",
       "      <td>IA</td>\n",
       "      <td>1</td>\n",
       "      <td>여성</td>\n",
       "      <td>F</td>\n",
       "      <td>202312</td>\n",
       "    </tr>\n",
       "    <tr>\n",
       "      <th>190</th>\n",
       "      <td>61 - 70</td>\n",
       "      <td>70</td>\n",
       "      <td>85237</td>\n",
       "      <td>인천공항</td>\n",
       "      <td>IA</td>\n",
       "      <td>1</td>\n",
       "      <td>여성</td>\n",
       "      <td>F</td>\n",
       "      <td>202312</td>\n",
       "    </tr>\n",
       "    <tr>\n",
       "      <th>191</th>\n",
       "      <td>71 -</td>\n",
       "      <td>80</td>\n",
       "      <td>21123</td>\n",
       "      <td>인천공항</td>\n",
       "      <td>IA</td>\n",
       "      <td>1</td>\n",
       "      <td>여성</td>\n",
       "      <td>F</td>\n",
       "      <td>202312</td>\n",
       "    </tr>\n",
       "  </tbody>\n",
       "</table>\n",
       "<p>192 rows × 9 columns</p>\n",
       "</div>"
      ],
      "text/plain": [
       "         age ageCd     num  port portCd rnum sex sexCd      ym\n",
       "0     0 - 10    10   36757  인천공항     IA    1  남성     M  202301\n",
       "1    11 - 20    20   74567  인천공항     IA    1  남성     M  202301\n",
       "2    21 - 30    30  119694  인천공항     IA    1  남성     M  202301\n",
       "3    31 - 40    40  110655  인천공항     IA    1  남성     M  202301\n",
       "4    41 - 50    50  125074  인천공항     IA    1  남성     M  202301\n",
       "..       ...   ...     ...   ...    ...  ...  ..   ...     ...\n",
       "187  31 - 40    40  166737  인천공항     IA    1  여성     F  202312\n",
       "188  41 - 50    50  136118  인천공항     IA    1  여성     F  202312\n",
       "189  51 - 60    60  134455  인천공항     IA    1  여성     F  202312\n",
       "190  61 - 70    70   85237  인천공항     IA    1  여성     F  202312\n",
       "191     71 -    80   21123  인천공항     IA    1  여성     F  202312\n",
       "\n",
       "[192 rows x 9 columns]"
      ]
     },
     "execution_count": 65,
     "metadata": {},
     "output_type": "execute_result"
    }
   ],
   "source": [
    "df"
   ]
  },
  {
   "cell_type": "markdown",
   "id": "2d555da7-c0fd-4fbd-a63d-b3f05ccb864a",
   "metadata": {},
   "source": [
    "## 수집은 성공적.... 이제 다른 데이터들도 수집을 해야겠다 \n",
    "\n",
    "- 그전에 ... 짤막한 EDA"
   ]
  },
  {
   "cell_type": "code",
   "execution_count": 74,
   "id": "4122e7fd-27a5-44a5-9d00-32aca7e1387f",
   "metadata": {},
   "outputs": [
    {
     "data": {
      "text/plain": [
       "0       36757\n",
       "1       74567\n",
       "2      119694\n",
       "3      110655\n",
       "4      125074\n",
       "        ...  \n",
       "187    166737\n",
       "188    136118\n",
       "189    134455\n",
       "190     85237\n",
       "191     21123\n",
       "Name: num, Length: 192, dtype: object"
      ]
     },
     "execution_count": 74,
     "metadata": {},
     "output_type": "execute_result"
    }
   ],
   "source": [
    "df.num"
   ]
  },
  {
   "cell_type": "markdown",
   "id": "686054c5-b563-4a57-bf9a-c5dfffc1bf60",
   "metadata": {},
   "source": [
    "## 데이터 변형 "
   ]
  },
  {
   "cell_type": "code",
   "execution_count": 80,
   "id": "6becf67a-2fca-4a01-902f-ee4bc9401eee",
   "metadata": {},
   "outputs": [],
   "source": [
    "df.ageCd = df.ageCd.astype('int64')\n",
    "df.num = df.num.astype('int64')\n"
   ]
  },
  {
   "cell_type": "markdown",
   "id": "85dd688a-427a-4dd1-906e-d46daadb7b43",
   "metadata": {},
   "source": [
    "## Datetime \n",
    "\n",
    "- 양식의 문제로 자체 변형하여 재 출력"
   ]
  },
  {
   "cell_type": "code",
   "execution_count": 90,
   "id": "bfaeef58-d5f1-461b-acb5-1d2e0fb637bd",
   "metadata": {},
   "outputs": [],
   "source": [
    "df.ym = df.ym.str[:4] + '-' + df.ym.str[4:6]"
   ]
  },
  {
   "cell_type": "code",
   "execution_count": 91,
   "id": "01bc2e39-1f15-47b7-9110-2d72ce7ba20e",
   "metadata": {},
   "outputs": [
    {
     "data": {
      "text/plain": [
       "0     2023-01-01\n",
       "1     2023-01-01\n",
       "2     2023-01-01\n",
       "3     2023-01-01\n",
       "4     2023-01-01\n",
       "         ...    \n",
       "187   2023-12-01\n",
       "188   2023-12-01\n",
       "189   2023-12-01\n",
       "190   2023-12-01\n",
       "191   2023-12-01\n",
       "Name: ym, Length: 192, dtype: datetime64[ns]"
      ]
     },
     "execution_count": 91,
     "metadata": {},
     "output_type": "execute_result"
    }
   ],
   "source": [
    "pd.to_datetime(df.ym)"
   ]
  },
  {
   "cell_type": "code",
   "execution_count": 92,
   "id": "b792107d-0069-484c-b67a-73ea6a201a8c",
   "metadata": {},
   "outputs": [],
   "source": [
    "df.ym = pd.to_datetime(df.ym)"
   ]
  },
  {
   "cell_type": "markdown",
   "id": "8970425f-2954-48e5-a5d3-35eb0ba016ee",
   "metadata": {},
   "source": [
    "## 연령대별 출국 인원 분포 "
   ]
  },
  {
   "cell_type": "code",
   "execution_count": 107,
   "id": "e6dc55b1-3ff1-41e7-a4c5-701803cb018a",
   "metadata": {},
   "outputs": [
    {
     "data": {
      "text/html": [
       "<div>\n",
       "<style scoped>\n",
       "    .dataframe tbody tr th:only-of-type {\n",
       "        vertical-align: middle;\n",
       "    }\n",
       "\n",
       "    .dataframe tbody tr th {\n",
       "        vertical-align: top;\n",
       "    }\n",
       "\n",
       "    .dataframe thead th {\n",
       "        text-align: right;\n",
       "    }\n",
       "</style>\n",
       "<table border=\"1\" class=\"dataframe\">\n",
       "  <thead>\n",
       "    <tr style=\"text-align: right;\">\n",
       "      <th></th>\n",
       "      <th>mean</th>\n",
       "    </tr>\n",
       "    <tr>\n",
       "      <th>ageCd</th>\n",
       "      <th></th>\n",
       "    </tr>\n",
       "  </thead>\n",
       "  <tbody>\n",
       "    <tr>\n",
       "      <th>10</th>\n",
       "      <td>37201.0</td>\n",
       "    </tr>\n",
       "    <tr>\n",
       "      <th>20</th>\n",
       "      <td>46672.0</td>\n",
       "    </tr>\n",
       "    <tr>\n",
       "      <th>30</th>\n",
       "      <td>134416.0</td>\n",
       "    </tr>\n",
       "    <tr>\n",
       "      <th>40</th>\n",
       "      <td>139603.0</td>\n",
       "    </tr>\n",
       "    <tr>\n",
       "      <th>50</th>\n",
       "      <td>123204.0</td>\n",
       "    </tr>\n",
       "    <tr>\n",
       "      <th>60</th>\n",
       "      <td>115517.0</td>\n",
       "    </tr>\n",
       "    <tr>\n",
       "      <th>70</th>\n",
       "      <td>76094.0</td>\n",
       "    </tr>\n",
       "    <tr>\n",
       "      <th>80</th>\n",
       "      <td>20053.0</td>\n",
       "    </tr>\n",
       "  </tbody>\n",
       "</table>\n",
       "</div>"
      ],
      "text/plain": [
       "           mean\n",
       "ageCd          \n",
       "10      37201.0\n",
       "20      46672.0\n",
       "30     134416.0\n",
       "40     139603.0\n",
       "50     123204.0\n",
       "60     115517.0\n",
       "70      76094.0\n",
       "80      20053.0"
      ]
     },
     "execution_count": 107,
     "metadata": {},
     "output_type": "execute_result"
    }
   ],
   "source": [
    "targets = round(df.groupby('ageCd')['num'].mean().to_frame('mean'),0)\n",
    "targets"
   ]
  },
  {
   "cell_type": "code",
   "execution_count": 114,
   "id": "f37beec1-d6e2-4fe4-8470-5b16af2869d7",
   "metadata": {},
   "outputs": [
    {
     "name": "stdout",
     "output_type": "stream",
     "text": [
      "Collecting matplotlib\n",
      "  Downloading matplotlib-3.9.2-cp311-cp311-manylinux_2_17_aarch64.manylinux2014_aarch64.whl.metadata (11 kB)\n",
      "Collecting contourpy>=1.0.1 (from matplotlib)\n",
      "  Downloading contourpy-1.3.0-cp311-cp311-manylinux_2_17_aarch64.manylinux2014_aarch64.whl.metadata (5.4 kB)\n",
      "Collecting cycler>=0.10 (from matplotlib)\n",
      "  Downloading cycler-0.12.1-py3-none-any.whl.metadata (3.8 kB)\n",
      "Collecting fonttools>=4.22.0 (from matplotlib)\n",
      "  Downloading fonttools-4.54.1-cp311-cp311-manylinux_2_17_aarch64.manylinux2014_aarch64.whl.metadata (163 kB)\n",
      "\u001b[2K     \u001b[90m━━━━━━━━━━━━━━━━━━━━━━━━━━━━━━━━━━━━━━━\u001b[0m \u001b[32m163.7/163.7 kB\u001b[0m \u001b[31m6.5 MB/s\u001b[0m eta \u001b[36m0:00:00\u001b[0m\n",
      "\u001b[?25hCollecting kiwisolver>=1.3.1 (from matplotlib)\n",
      "  Downloading kiwisolver-1.4.7-cp311-cp311-manylinux_2_17_aarch64.manylinux2014_aarch64.whl.metadata (6.3 kB)\n",
      "Requirement already satisfied: numpy>=1.23 in /opt/conda/lib/python3.11/site-packages (from matplotlib) (2.1.3)\n",
      "Requirement already satisfied: packaging>=20.0 in /opt/conda/lib/python3.11/site-packages (from matplotlib) (23.2)\n",
      "Collecting pillow>=8 (from matplotlib)\n",
      "  Downloading pillow-11.0.0-cp311-cp311-manylinux_2_28_aarch64.whl.metadata (9.1 kB)\n",
      "Collecting pyparsing>=2.3.1 (from matplotlib)\n",
      "  Downloading pyparsing-3.2.0-py3-none-any.whl.metadata (5.0 kB)\n",
      "Requirement already satisfied: python-dateutil>=2.7 in /opt/conda/lib/python3.11/site-packages (from matplotlib) (2.8.2)\n",
      "Requirement already satisfied: six>=1.5 in /opt/conda/lib/python3.11/site-packages (from python-dateutil>=2.7->matplotlib) (1.16.0)\n",
      "Downloading matplotlib-3.9.2-cp311-cp311-manylinux_2_17_aarch64.manylinux2014_aarch64.whl (8.2 MB)\n",
      "\u001b[2K   \u001b[90m━━━━━━━━━━━━━━━━━━━━━━━━━━━━━━━━━━━━━━━━\u001b[0m \u001b[32m8.2/8.2 MB\u001b[0m \u001b[31m16.3 MB/s\u001b[0m eta \u001b[36m0:00:00\u001b[0m00:01\u001b[0m00:01\u001b[0m\n",
      "\u001b[?25hDownloading contourpy-1.3.0-cp311-cp311-manylinux_2_17_aarch64.manylinux2014_aarch64.whl (310 kB)\n",
      "\u001b[2K   \u001b[90m━━━━━━━━━━━━━━━━━━━━━━━━━━━━━━━━━━━━━━━━\u001b[0m \u001b[32m310.4/310.4 kB\u001b[0m \u001b[31m17.8 MB/s\u001b[0m eta \u001b[36m0:00:00\u001b[0m\n",
      "\u001b[?25hDownloading cycler-0.12.1-py3-none-any.whl (8.3 kB)\n",
      "Downloading fonttools-4.54.1-cp311-cp311-manylinux_2_17_aarch64.manylinux2014_aarch64.whl (4.9 MB)\n",
      "\u001b[2K   \u001b[90m━━━━━━━━━━━━━━━━━━━━━━━━━━━━━━━━━━━━━━━━\u001b[0m \u001b[32m4.9/4.9 MB\u001b[0m \u001b[31m17.2 MB/s\u001b[0m eta \u001b[36m0:00:00\u001b[0m00:01\u001b[0m00:01\u001b[0m\n",
      "\u001b[?25hDownloading kiwisolver-1.4.7-cp311-cp311-manylinux_2_17_aarch64.manylinux2014_aarch64.whl (1.4 MB)\n",
      "\u001b[2K   \u001b[90m━━━━━━━━━━━━━━━━━━━━━━━━━━━━━━━━━━━━━━━━\u001b[0m \u001b[32m1.4/1.4 MB\u001b[0m \u001b[31m15.2 MB/s\u001b[0m eta \u001b[36m0:00:00\u001b[0ma \u001b[36m0:00:01\u001b[0m\n",
      "\u001b[?25hDownloading pillow-11.0.0-cp311-cp311-manylinux_2_28_aarch64.whl (4.2 MB)\n",
      "\u001b[2K   \u001b[90m━━━━━━━━━━━━━━━━━━━━━━━━━━━━━━━━━━━━━━━━\u001b[0m \u001b[32m4.2/4.2 MB\u001b[0m \u001b[31m13.8 MB/s\u001b[0m eta \u001b[36m0:00:00\u001b[0m00:01\u001b[0m00:01\u001b[0m\n",
      "\u001b[?25hDownloading pyparsing-3.2.0-py3-none-any.whl (106 kB)\n",
      "\u001b[2K   \u001b[90m━━━━━━━━━━━━━━━━━━━━━━━━━━━━━━━━━━━━━━━━\u001b[0m \u001b[32m106.9/106.9 kB\u001b[0m \u001b[31m5.4 MB/s\u001b[0m eta \u001b[36m0:00:00\u001b[0m\n",
      "\u001b[?25hInstalling collected packages: pyparsing, pillow, kiwisolver, fonttools, cycler, contourpy, matplotlib\n",
      "Successfully installed contourpy-1.3.0 cycler-0.12.1 fonttools-4.54.1 kiwisolver-1.4.7 matplotlib-3.9.2 pillow-11.0.0 pyparsing-3.2.0\n"
     ]
    }
   ],
   "source": [
    "! pip install matplotlib"
   ]
  },
  {
   "cell_type": "code",
   "execution_count": 123,
   "id": "f0b06197-058f-4d79-8071-74537b61d3e5",
   "metadata": {},
   "outputs": [
    {
     "data": {
      "text/plain": [
       "(array([0, 1, 2, 3, 4, 5, 6, 7]),\n",
       " [Text(0, 0, '10'),\n",
       "  Text(1, 0, '20'),\n",
       "  Text(2, 0, '30'),\n",
       "  Text(3, 0, '40'),\n",
       "  Text(4, 0, '50'),\n",
       "  Text(5, 0, '60'),\n",
       "  Text(6, 0, '70'),\n",
       "  Text(7, 0, '80')])"
      ]
     },
     "execution_count": 123,
     "metadata": {},
     "output_type": "execute_result"
    },
    {
     "data": {
      "image/png": "[encoded data removed]",
      "text/plain": [
       "<Figure size 640x480 with 1 Axes>"
      ]
     },
     "metadata": {},
     "output_type": "display_data"
    }
   ],
   "source": [
    "import matplotlib.pyplot as plt \n",
    "targets.plot(kind='bar')"
   ]
  },
  {
   "cell_type": "markdown",
   "id": "9eb87a32-5eef-457d-b579-858930116098",
   "metadata": {},
   "source": [
    "## 성별별 출국 인원 분포"
   ]
  },
  {
   "cell_type": "code",
   "execution_count": 128,
   "id": "841bbab1-bbd8-41d7-873b-5ebbd0f2aa42",
   "metadata": {},
   "outputs": [],
   "source": [
    "targets2 = round(df.groupby('sex')['num'].mean()).to_frame('mean')"
   ]
  },
  {
   "cell_type": "code",
   "execution_count": 130,
   "id": "5d0d4b46-a2a3-46a2-b593-92a7bfae6b86",
   "metadata": {},
   "outputs": [
    {
     "data": {
      "text/html": [
       "<div>\n",
       "<style scoped>\n",
       "    .dataframe tbody tr th:only-of-type {\n",
       "        vertical-align: middle;\n",
       "    }\n",
       "\n",
       "    .dataframe tbody tr th {\n",
       "        vertical-align: top;\n",
       "    }\n",
       "\n",
       "    .dataframe thead th {\n",
       "        text-align: right;\n",
       "    }\n",
       "</style>\n",
       "<table border=\"1\" class=\"dataframe\">\n",
       "  <thead>\n",
       "    <tr style=\"text-align: right;\">\n",
       "      <th></th>\n",
       "      <th>mean</th>\n",
       "    </tr>\n",
       "    <tr>\n",
       "      <th>sex</th>\n",
       "      <th></th>\n",
       "    </tr>\n",
       "  </thead>\n",
       "  <tbody>\n",
       "    <tr>\n",
       "      <th>남성</th>\n",
       "      <td>86500.0</td>\n",
       "    </tr>\n",
       "    <tr>\n",
       "      <th>여성</th>\n",
       "      <td>86690.0</td>\n",
       "    </tr>\n",
       "  </tbody>\n",
       "</table>\n",
       "</div>"
      ],
      "text/plain": [
       "        mean\n",
       "sex         \n",
       "남성   86500.0\n",
       "여성   86690.0"
      ]
     },
     "execution_count": 130,
     "metadata": {},
     "output_type": "execute_result"
    }
   ],
   "source": [
    "targets2"
   ]
  },
  {
   "cell_type": "code",
   "execution_count": 133,
   "id": "a1d2f22e-9eeb-4bb7-83b0-35380ef42528",
   "metadata": {},
   "outputs": [
    {
     "name": "stdout",
     "output_type": "stream",
     "text": [
      "Collecting koreanize_matplotlib\n",
      "  Downloading koreanize_matplotlib-0.1.1-py3-none-any.whl.metadata (992 bytes)\n",
      "Requirement already satisfied: matplotlib in /opt/conda/lib/python3.11/site-packages (from koreanize_matplotlib) (3.9.2)\n",
      "Requirement already satisfied: contourpy>=1.0.1 in /opt/conda/lib/python3.11/site-packages (from matplotlib->koreanize_matplotlib) (1.3.0)\n",
      "Requirement already satisfied: cycler>=0.10 in /opt/conda/lib/python3.11/site-packages (from matplotlib->koreanize_matplotlib) (0.12.1)\n",
      "Requirement already satisfied: fonttools>=4.22.0 in /opt/conda/lib/python3.11/site-packages (from matplotlib->koreanize_matplotlib) (4.54.1)\n",
      "Requirement already satisfied: kiwisolver>=1.3.1 in /opt/conda/lib/python3.11/site-packages (from matplotlib->koreanize_matplotlib) (1.4.7)\n",
      "Requirement already satisfied: numpy>=1.23 in /opt/conda/lib/python3.11/site-packages (from matplotlib->koreanize_matplotlib) (2.1.3)\n",
      "Requirement already satisfied: packaging>=20.0 in /opt/conda/lib/python3.11/site-packages (from matplotlib->koreanize_matplotlib) (23.2)\n",
      "Requirement already satisfied: pillow>=8 in /opt/conda/lib/python3.11/site-packages (from matplotlib->koreanize_matplotlib) (11.0.0)\n",
      "Requirement already satisfied: pyparsing>=2.3.1 in /opt/conda/lib/python3.11/site-packages (from matplotlib->koreanize_matplotlib) (3.2.0)\n",
      "Requirement already satisfied: python-dateutil>=2.7 in /opt/conda/lib/python3.11/site-packages (from matplotlib->koreanize_matplotlib) (2.8.2)\n",
      "Requirement already satisfied: six>=1.5 in /opt/conda/lib/python3.11/site-packages (from python-dateutil>=2.7->matplotlib->koreanize_matplotlib) (1.16.0)\n",
      "Downloading koreanize_matplotlib-0.1.1-py3-none-any.whl (7.9 MB)\n",
      "\u001b[2K   \u001b[90m━━━━━━━━━━━━━━━━━━━━━━━━━━━━━━━━━━━━━━━━\u001b[0m \u001b[32m7.9/7.9 MB\u001b[0m \u001b[31m19.0 MB/s\u001b[0m eta \u001b[36m0:00:00\u001b[0m00:01\u001b[0m00:01\u001b[0m\n",
      "\u001b[?25hInstalling collected packages: koreanize_matplotlib\n",
      "Successfully installed koreanize_matplotlib-0.1.1\n"
     ]
    }
   ],
   "source": [
    "! pip install koreanize_matplotlib"
   ]
  },
  {
   "cell_type": "code",
   "execution_count": 134,
   "id": "f48c6d35-16c7-4b66-9b6f-53c0b6b6fa73",
   "metadata": {},
   "outputs": [
    {
     "data": {
      "text/plain": [
       "<Axes: xlabel='sex'>"
      ]
     },
     "execution_count": 134,
     "metadata": {},
     "output_type": "execute_result"
    },
    {
     "data": {
      "image/png": "[encoded data removed]",
      "text/plain": [
       "<Figure size 640x480 with 1 Axes>"
      ]
     },
     "metadata": {},
     "output_type": "display_data"
    }
   ],
   "source": [
    "import koreanize_matplotlib\n",
    "\n",
    "targets2.plot(kind='bar')\n"
   ]
  },
  {
   "cell_type": "markdown",
   "id": "671ce6a9-924c-4ce0-862a-ddec48a3db49",
   "metadata": {},
   "source": [
    "### 시간대별 출국 추세 "
   ]
  },
  {
   "cell_type": "code",
   "execution_count": 137,
   "id": "be27e7fb-c0a1-4406-b84d-33e2f1bba845",
   "metadata": {},
   "outputs": [
    {
     "data": {
      "text/html": [
       "<div>\n",
       "<style scoped>\n",
       "    .dataframe tbody tr th:only-of-type {\n",
       "        vertical-align: middle;\n",
       "    }\n",
       "\n",
       "    .dataframe tbody tr th {\n",
       "        vertical-align: top;\n",
       "    }\n",
       "\n",
       "    .dataframe thead th {\n",
       "        text-align: right;\n",
       "    }\n",
       "</style>\n",
       "<table border=\"1\" class=\"dataframe\">\n",
       "  <thead>\n",
       "    <tr style=\"text-align: right;\">\n",
       "      <th></th>\n",
       "      <th>num</th>\n",
       "    </tr>\n",
       "    <tr>\n",
       "      <th>ym</th>\n",
       "      <th></th>\n",
       "    </tr>\n",
       "  </thead>\n",
       "  <tbody>\n",
       "    <tr>\n",
       "      <th>2023-01-01</th>\n",
       "      <td>83295.6875</td>\n",
       "    </tr>\n",
       "    <tr>\n",
       "      <th>2023-02-01</th>\n",
       "      <td>79255.1250</td>\n",
       "    </tr>\n",
       "    <tr>\n",
       "      <th>2023-03-01</th>\n",
       "      <td>66645.6875</td>\n",
       "    </tr>\n",
       "    <tr>\n",
       "      <th>2023-04-01</th>\n",
       "      <td>68983.5625</td>\n",
       "    </tr>\n",
       "    <tr>\n",
       "      <th>2023-05-01</th>\n",
       "      <td>78314.0000</td>\n",
       "    </tr>\n",
       "    <tr>\n",
       "      <th>2023-06-01</th>\n",
       "      <td>81838.9375</td>\n",
       "    </tr>\n",
       "    <tr>\n",
       "      <th>2023-07-01</th>\n",
       "      <td>99714.6250</td>\n",
       "    </tr>\n",
       "    <tr>\n",
       "      <th>2023-08-01</th>\n",
       "      <td>96164.3750</td>\n",
       "    </tr>\n",
       "    <tr>\n",
       "      <th>2023-09-01</th>\n",
       "      <td>93461.0000</td>\n",
       "    </tr>\n",
       "    <tr>\n",
       "      <th>2023-10-01</th>\n",
       "      <td>92178.0000</td>\n",
       "    </tr>\n",
       "    <tr>\n",
       "      <th>2023-11-01</th>\n",
       "      <td>91545.2500</td>\n",
       "    </tr>\n",
       "    <tr>\n",
       "      <th>2023-12-01</th>\n",
       "      <td>107743.8125</td>\n",
       "    </tr>\n",
       "  </tbody>\n",
       "</table>\n",
       "</div>"
      ],
      "text/plain": [
       "                    num\n",
       "ym                     \n",
       "2023-01-01   83295.6875\n",
       "2023-02-01   79255.1250\n",
       "2023-03-01   66645.6875\n",
       "2023-04-01   68983.5625\n",
       "2023-05-01   78314.0000\n",
       "2023-06-01   81838.9375\n",
       "2023-07-01   99714.6250\n",
       "2023-08-01   96164.3750\n",
       "2023-09-01   93461.0000\n",
       "2023-10-01   92178.0000\n",
       "2023-11-01   91545.2500\n",
       "2023-12-01  107743.8125"
      ]
     },
     "execution_count": 137,
     "metadata": {},
     "output_type": "execute_result"
    }
   ],
   "source": [
    "targets3 = df.groupby('ym')['num'].mean().to_frame()\n",
    "\n",
    "targets3"
   ]
  },
  {
   "cell_type": "code",
   "execution_count": 138,
   "id": "09d7415b-99db-4388-9d45-48fe10217d29",
   "metadata": {},
   "outputs": [
    {
     "data": {
      "text/plain": [
       "<Axes: xlabel='ym'>"
      ]
     },
     "execution_count": 138,
     "metadata": {},
     "output_type": "execute_result"
    },
    {
     "data": {
      "image/png": "[encoded data removed]",
      "text/plain": [
       "<Figure size 640x480 with 1 Axes>"
      ]
     },
     "metadata": {},
     "output_type": "display_data"
    }
   ],
   "source": [
    "targets3.plot(kind='line')"
   ]
  },
  {
   "cell_type": "code",
   "execution_count": 139,
   "id": "267de790-8562-4a4c-92ba-3a49dd633397",
   "metadata": {},
   "outputs": [
    {
     "data": {
      "text/html": [
       "<div>\n",
       "<style scoped>\n",
       "    .dataframe tbody tr th:only-of-type {\n",
       "        vertical-align: middle;\n",
       "    }\n",
       "\n",
       "    .dataframe tbody tr th {\n",
       "        vertical-align: top;\n",
       "    }\n",
       "\n",
       "    .dataframe thead th {\n",
       "        text-align: right;\n",
       "    }\n",
       "</style>\n",
       "<table border=\"1\" class=\"dataframe\">\n",
       "  <thead>\n",
       "    <tr style=\"text-align: right;\">\n",
       "      <th></th>\n",
       "      <th>age</th>\n",
       "      <th>ageCd</th>\n",
       "      <th>num</th>\n",
       "      <th>port</th>\n",
       "      <th>portCd</th>\n",
       "      <th>rnum</th>\n",
       "      <th>sex</th>\n",
       "      <th>sexCd</th>\n",
       "      <th>ym</th>\n",
       "    </tr>\n",
       "  </thead>\n",
       "  <tbody>\n",
       "    <tr>\n",
       "      <th>0</th>\n",
       "      <td>0 - 10</td>\n",
       "      <td>10</td>\n",
       "      <td>36757</td>\n",
       "      <td>인천공항</td>\n",
       "      <td>IA</td>\n",
       "      <td>1</td>\n",
       "      <td>남성</td>\n",
       "      <td>M</td>\n",
       "      <td>2023-01-01</td>\n",
       "    </tr>\n",
       "    <tr>\n",
       "      <th>1</th>\n",
       "      <td>11 - 20</td>\n",
       "      <td>20</td>\n",
       "      <td>74567</td>\n",
       "      <td>인천공항</td>\n",
       "      <td>IA</td>\n",
       "      <td>1</td>\n",
       "      <td>남성</td>\n",
       "      <td>M</td>\n",
       "      <td>2023-01-01</td>\n",
       "    </tr>\n",
       "    <tr>\n",
       "      <th>2</th>\n",
       "      <td>21 - 30</td>\n",
       "      <td>30</td>\n",
       "      <td>119694</td>\n",
       "      <td>인천공항</td>\n",
       "      <td>IA</td>\n",
       "      <td>1</td>\n",
       "      <td>남성</td>\n",
       "      <td>M</td>\n",
       "      <td>2023-01-01</td>\n",
       "    </tr>\n",
       "    <tr>\n",
       "      <th>3</th>\n",
       "      <td>31 - 40</td>\n",
       "      <td>40</td>\n",
       "      <td>110655</td>\n",
       "      <td>인천공항</td>\n",
       "      <td>IA</td>\n",
       "      <td>1</td>\n",
       "      <td>남성</td>\n",
       "      <td>M</td>\n",
       "      <td>2023-01-01</td>\n",
       "    </tr>\n",
       "    <tr>\n",
       "      <th>4</th>\n",
       "      <td>41 - 50</td>\n",
       "      <td>50</td>\n",
       "      <td>125074</td>\n",
       "      <td>인천공항</td>\n",
       "      <td>IA</td>\n",
       "      <td>1</td>\n",
       "      <td>남성</td>\n",
       "      <td>M</td>\n",
       "      <td>2023-01-01</td>\n",
       "    </tr>\n",
       "    <tr>\n",
       "      <th>...</th>\n",
       "      <td>...</td>\n",
       "      <td>...</td>\n",
       "      <td>...</td>\n",
       "      <td>...</td>\n",
       "      <td>...</td>\n",
       "      <td>...</td>\n",
       "      <td>...</td>\n",
       "      <td>...</td>\n",
       "      <td>...</td>\n",
       "    </tr>\n",
       "    <tr>\n",
       "      <th>187</th>\n",
       "      <td>31 - 40</td>\n",
       "      <td>40</td>\n",
       "      <td>166737</td>\n",
       "      <td>인천공항</td>\n",
       "      <td>IA</td>\n",
       "      <td>1</td>\n",
       "      <td>여성</td>\n",
       "      <td>F</td>\n",
       "      <td>2023-12-01</td>\n",
       "    </tr>\n",
       "    <tr>\n",
       "      <th>188</th>\n",
       "      <td>41 - 50</td>\n",
       "      <td>50</td>\n",
       "      <td>136118</td>\n",
       "      <td>인천공항</td>\n",
       "      <td>IA</td>\n",
       "      <td>1</td>\n",
       "      <td>여성</td>\n",
       "      <td>F</td>\n",
       "      <td>2023-12-01</td>\n",
       "    </tr>\n",
       "    <tr>\n",
       "      <th>189</th>\n",
       "      <td>51 - 60</td>\n",
       "      <td>60</td>\n",
       "      <td>134455</td>\n",
       "      <td>인천공항</td>\n",
       "      <td>IA</td>\n",
       "      <td>1</td>\n",
       "      <td>여성</td>\n",
       "      <td>F</td>\n",
       "      <td>2023-12-01</td>\n",
       "    </tr>\n",
       "    <tr>\n",
       "      <th>190</th>\n",
       "      <td>61 - 70</td>\n",
       "      <td>70</td>\n",
       "      <td>85237</td>\n",
       "      <td>인천공항</td>\n",
       "      <td>IA</td>\n",
       "      <td>1</td>\n",
       "      <td>여성</td>\n",
       "      <td>F</td>\n",
       "      <td>2023-12-01</td>\n",
       "    </tr>\n",
       "    <tr>\n",
       "      <th>191</th>\n",
       "      <td>71 -</td>\n",
       "      <td>80</td>\n",
       "      <td>21123</td>\n",
       "      <td>인천공항</td>\n",
       "      <td>IA</td>\n",
       "      <td>1</td>\n",
       "      <td>여성</td>\n",
       "      <td>F</td>\n",
       "      <td>2023-12-01</td>\n",
       "    </tr>\n",
       "  </tbody>\n",
       "</table>\n",
       "<p>192 rows × 9 columns</p>\n",
       "</div>"
      ],
      "text/plain": [
       "         age  ageCd     num  port portCd rnum sex sexCd         ym\n",
       "0     0 - 10     10   36757  인천공항     IA    1  남성     M 2023-01-01\n",
       "1    11 - 20     20   74567  인천공항     IA    1  남성     M 2023-01-01\n",
       "2    21 - 30     30  119694  인천공항     IA    1  남성     M 2023-01-01\n",
       "3    31 - 40     40  110655  인천공항     IA    1  남성     M 2023-01-01\n",
       "4    41 - 50     50  125074  인천공항     IA    1  남성     M 2023-01-01\n",
       "..       ...    ...     ...   ...    ...  ...  ..   ...        ...\n",
       "187  31 - 40     40  166737  인천공항     IA    1  여성     F 2023-12-01\n",
       "188  41 - 50     50  136118  인천공항     IA    1  여성     F 2023-12-01\n",
       "189  51 - 60     60  134455  인천공항     IA    1  여성     F 2023-12-01\n",
       "190  61 - 70     70   85237  인천공항     IA    1  여성     F 2023-12-01\n",
       "191     71 -     80   21123  인천공항     IA    1  여성     F 2023-12-01\n",
       "\n",
       "[192 rows x 9 columns]"
      ]
     },
     "execution_count": 139,
     "metadata": {},
     "output_type": "execute_result"
    }
   ],
   "source": [
    "df"
   ]
  },
  {
   "cell_type": "markdown",
   "id": "7b0d7c6c-6d62-407f-a163-ce231958f3b9",
   "metadata": {},
   "source": [
    "## 통계적 가설검증 \n",
    "\n",
    "1. 상반기, 하반기로 나눈다\n",
    "2. 두 시기의 출국 인원 평균의 인원이 통계적으로 유의미하게 다른지에 대한 검정 "
   ]
  },
  {
   "cell_type": "code",
   "execution_count": 146,
   "id": "204ccba5-f412-4571-bebd-95f8b95744db",
   "metadata": {},
   "outputs": [
    {
     "data": {
      "text/plain": [
       "0      2023-01\n",
       "1      2023-01\n",
       "2      2023-01\n",
       "3      2023-01\n",
       "4      2023-01\n",
       "        ...   \n",
       "187    2023-12\n",
       "188    2023-12\n",
       "189    2023-12\n",
       "190    2023-12\n",
       "191    2023-12\n",
       "Name: ym, Length: 192, dtype: object"
      ]
     },
     "execution_count": 146,
     "metadata": {},
     "output_type": "execute_result"
    }
   ],
   "source": [
    "# 1. 분기 나누기 \n",
    "\n",
    "df.ym = df.ym.dt.strftime('%Y-%m') \n",
    "df.ym\n"
   ]
  },
  {
   "cell_type": "code",
   "execution_count": 158,
   "id": "2d2218bc-9eb0-4780-ad38-ffaa4ee68c26",
   "metadata": {},
   "outputs": [],
   "source": [
    "first_half = df[df.ym.str[5:].astype('int64').between(1,6)]\n",
    "second_half = df[df.ym.str[5:].astype('int64').between(7,12)]"
   ]
  },
  {
   "cell_type": "code",
   "execution_count": 160,
   "id": "1faadb61-01ae-4387-9e79-d96b9ae90f6b",
   "metadata": {},
   "outputs": [],
   "source": [
    "상반기 = first_half.groupby('ym')['num'].mean()\n",
    "하반기 = second_half.groupby('ym')['num'].mean()"
   ]
  },
  {
   "cell_type": "code",
   "execution_count": 161,
   "id": "22f3bcc5-554a-4346-85ab-6cb92813ae86",
   "metadata": {
    "scrolled": true
   },
   "outputs": [
    {
     "name": "stdout",
     "output_type": "stream",
     "text": [
      "Collecting scipy\n",
      "  Downloading scipy-1.14.1-cp311-cp311-manylinux_2_17_aarch64.manylinux2014_aarch64.whl.metadata (60 kB)\n",
      "\u001b[2K     \u001b[90m━━━━━━━━━━━━━━━━━━━━━━━━━━━━━━━━━━━━━━━━\u001b[0m \u001b[32m60.8/60.8 kB\u001b[0m \u001b[31m4.5 MB/s\u001b[0m eta \u001b[36m0:00:00\u001b[0m\n",
      "\u001b[?25hRequirement already satisfied: numpy<2.3,>=1.23.5 in /opt/conda/lib/python3.11/site-packages (from scipy) (2.1.3)\n",
      "Downloading scipy-1.14.1-cp311-cp311-manylinux_2_17_aarch64.manylinux2014_aarch64.whl (35.6 MB)\n",
      "\u001b[2K   \u001b[90m━━━━━━━━━━━━━━━━━━━━━━━━━━━━━━━━━━━━━━━━\u001b[0m \u001b[32m35.6/35.6 MB\u001b[0m \u001b[31m12.2 MB/s\u001b[0m eta \u001b[36m0:00:00\u001b[0m00:01\u001b[0m00:01\u001b[0m\n",
      "\u001b[?25hInstalling collected packages: scipy\n",
      "Successfully installed scipy-1.14.1\n"
     ]
    }
   ],
   "source": [
    "!pip install scipy"
   ]
  },
  {
   "cell_type": "markdown",
   "id": "2fa93023-bdeb-4508-a7e0-ca8fedd67a43",
   "metadata": {},
   "source": [
    "## Scipy를 통한 통계검증 \n",
    "\n",
    "- 한 데이터 안의 데이터의 평균을 검증하기 위해, 쌍체표본 T-검증을 실시한다.\n",
    "- 우선 정규성을 필요로 하는지 확인한다"
   ]
  },
  {
   "cell_type": "code",
   "execution_count": 162,
   "id": "d6009ca1-e274-4c69-afde-8d3a2025a555",
   "metadata": {},
   "outputs": [],
   "source": [
    "from scipy.stats import shapiro "
   ]
  },
  {
   "cell_type": "code",
   "execution_count": 166,
   "id": "44d90e0c-7577-4b5e-a98a-1ab7287fed6e",
   "metadata": {},
   "outputs": [],
   "source": [
    "stats_1, pval_1 = shapiro(상반기)\n",
    "stats_1, pval_2 = shapiro(하반기)"
   ]
  },
  {
   "cell_type": "code",
   "execution_count": 169,
   "id": "48713588-4730-442d-b4b7-3fe028eb1778",
   "metadata": {},
   "outputs": [
    {
     "data": {
      "text/plain": [
       "np.float64(0.21421872516943974)"
      ]
     },
     "metadata": {},
     "output_type": "display_data"
    },
    {
     "data": {
      "text/plain": [
       "np.float64(0.20222133789541868)"
      ]
     },
     "metadata": {},
     "output_type": "display_data"
    }
   ],
   "source": [
    "display(pval_1, pval_2)"
   ]
  },
  {
   "cell_type": "markdown",
   "id": "83d35f30-2638-42cd-a223-2993fbac02bc",
   "metadata": {},
   "source": [
    "## 0.05 이하 \n",
    "\n",
    "- 정규성 위배로 인해 T-검정은 실시하지 못한다.\n",
    "- 그러므로 윌콕슨 검정을 시행"
   ]
  },
  {
   "cell_type": "code",
   "execution_count": 170,
   "id": "886a3ca4-f1ab-4e7d-88dc-fde6dfdf51fb",
   "metadata": {},
   "outputs": [],
   "source": [
    "from scipy.stats import wilcoxon"
   ]
  },
  {
   "cell_type": "code",
   "execution_count": 172,
   "id": "b6d06814-44f5-4c29-8279-37962e38a8ae",
   "metadata": {},
   "outputs": [],
   "source": [
    "w_stats, pval = wilcoxon(상반기, 하반기)"
   ]
  },
  {
   "cell_type": "code",
   "execution_count": 175,
   "id": "08ff4ddb-ef98-4e9d-be74-9fe1fe9b70eb",
   "metadata": {
    "scrolled": true
   },
   "outputs": [
    {
     "data": {
      "text/plain": [
       "np.float64(0.0)"
      ]
     },
     "metadata": {},
     "output_type": "display_data"
    },
    {
     "data": {
      "text/plain": [
       "np.float64(0.03125)"
      ]
     },
     "metadata": {},
     "output_type": "display_data"
    }
   ],
   "source": [
    "display(w_stats, pval)"
   ]
  },
  {
   "cell_type": "markdown",
   "id": "bb2b1449-95d7-42b6-b1c7-ac2909cfe83b",
   "metadata": {},
   "source": [
    "## 결론 \n",
    "\n",
    "\n",
    "```\n",
    "1. 0.03125로 기존에 우리가 알아내고자 했던, 상반기 하반기 두 시기의 출국 인원 평균의 인원이 통계적으로 유의미하게 다른지에 대한 검정은 유의미 하다고 볼 수 있다 그러나, 상반기, 하반기 데이터는 정규성을 검정할 수 없었기에, 윌콕스 검정으로 검정하여 신뢰성이 그리 높진 않은 편으로 확인이 된다.\n",
    "2. 남성, 여성 할 것 없이 여행객은 달마다 증가하나, 7월과 12월이 가장 출국 인원들이 많을 시기인 것을 확인할 수 있으며,\n",
    "3. 나이대로는 30,40대 인원이 가장 출국비율이 높은 것으로 확인이 되었다 .\n",
    "\n",
    "```"
   ]
  },
  {
   "cell_type": "code",
   "execution_count": null,
   "id": "a36bec3b-aad5-4f50-8557-84f2e0a72cb7",
   "metadata": {},
   "outputs": [],
   "source": []
  }
 ],
 "metadata": {
  "kernelspec": {
   "display_name": "Python 3 (ipykernel)",
   "language": "python",
   "name": "python3"
  },
  "language_info": {
   "codemirror_mode": {
    "name": "ipython",
    "version": 3
   },
   "file_extension": ".py",
   "mimetype": "text/x-python",
   "name": "python",
   "nbconvert_exporter": "python",
   "pygments_lexer": "ipython3",
   "version": "3.11.6"
  }
 },
 "nbformat": 4,
 "nbformat_minor": 5
}
